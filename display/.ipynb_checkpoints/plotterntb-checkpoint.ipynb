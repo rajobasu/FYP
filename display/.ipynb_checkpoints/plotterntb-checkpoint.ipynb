{
 "cells": [
  {
   "cell_type": "code",
   "execution_count": 1,
   "metadata": {
    "collapsed": false,
    "jupyter": {
     "outputs_hidden": false
    },
    "pycharm": {
     "name": "#%%\n"
    }
   },
   "outputs": [],
   "source": [
    "# import matplotlib\n",
    "# matplotlib.use('TkAgg')\n",
    "%matplotlib inline\n",
    "import matplotlib.pyplot as plt\n",
    "import seaborn as sns\n",
    "from pprint import pprint\n",
    "import pandas as pd"
   ]
  },
  {
   "cell_type": "code",
   "execution_count": 48,
   "metadata": {
    "collapsed": false,
    "jupyter": {
     "outputs_hidden": false
    },
    "pycharm": {
     "name": "#%%\n"
    }
   },
   "outputs": [],
   "source": [
    "import itertools\n",
    "import numpy as np\n",
    "\n",
    "class Datapoint:\n",
    "    def __init__(self, t, s, g, sent):\n",
    "        self.toxicity = t\n",
    "        self.similarity = s\n",
    "        self.generation = g\n",
    "        self.sentence = sent\n",
    "\n",
    "def get_metadata_from_file(datafilenum):\n",
    "    metadata_file = f\"../data/output{datafilenum}.metadata\"\n",
    "    \n",
    "    metadata = {}\n",
    "    with open(metadata_file, \"r\") as f:\n",
    "        for line in f.readlines():\n",
    "            key, val = line.split(\",\")\n",
    "            metadata[key] = val\n",
    "\n",
    "    return metadata\n",
    "\n",
    "def get_data_from_file(datafilenum):\n",
    "    data_file = f\"../data/output{datafilenum}.csv\"\n",
    "    \n",
    "    result = []\n",
    "    with open(data_file, \"r\") as f:\n",
    "        f.readline()\n",
    "        for line in f.readlines():\n",
    "            parts = line.split(\",\", maxsplit=3)\n",
    "            result.append(Datapoint(float(parts[0]), float(parts[1]), int(parts[2]), parts[3]))\n",
    "\n",
    "    print(result[0])\n",
    "    return result\n",
    "\n",
    "def average_points_per_generation(datapoints):\n",
    "    by_gen = [list(v) for l, v in itertools.groupby(datapoints, lambda x: x.generation)]\n",
    "    return (\n",
    "        [np.mean([x.toxicity for x in data]) for data in by_gen],\n",
    "        [np.mean([x.similarity for x in data]) for data in by_gen]\n",
    "    )\n"
   ]
  },
  {
   "cell_type": "code",
   "execution_count": 49,
   "metadata": {
    "collapsed": false,
    "jupyter": {
     "outputs_hidden": false
    },
    "pycharm": {
     "name": "#%%\n"
    }
   },
   "outputs": [
    {
     "name": "stdout",
     "output_type": "stream",
     "text": [
      "<__main__.Datapoint object at 0x7f97f5513640>\n",
      "<__main__.Datapoint object at 0x7f97f5a1d570>\n",
      "<__main__.Datapoint object at 0x7f97f7e23910>\n",
      "<__main__.Datapoint object at 0x7f97f7c82fb0>\n",
      "<__main__.Datapoint object at 0x7f97f7e4c4c0>\n",
      "<__main__.Datapoint object at 0x7f97f805f3a0>\n",
      "[0.9465835, 0.8685381538461538, 0.8077947692307692, 0.7742308461538462, 0.7631538461538461, 0.7176662307692308, 0.662692, 0.5586150769230769, 0.6041279230769231, 0.6179486153846154, 0.598101923076923, 0.5505636923076923, 0.6346922307692309, 0.5668718461538462, 0.6209486153846154, 0.6146663846153847, 0.584178923076923, 0.556614846153846, 0.5775124615384615, 0.5972048461538462, 0.6179226153846153, 0.612512076923077, 0.5642817692307692, 0.5934614615384616, 0.5731536153846155]\n",
      "[0.9758140000000001, 0.9135604615384616, 0.8653822307692307, 0.8098543076923077, 0.7808280000000001, 0.7360033846153846, 0.7094313846153846, 0.6283681538461539, 0.6065107692307693, 0.6316110769230767, 0.6105653076923078, 0.6209284615384615, 0.6281610000000001, 0.6320133846153847, 0.5998236923076923, 0.6000603846153846, 0.610607076923077, 0.596215076923077, 0.6005915384615385, 0.5934695384615384, 0.5898539230769232, 0.6114996153846155, 0.590317, 0.5803634615384615, 0.5794516923076923]\n",
      "[1.0, 0.9800000000000001, 0.9619488461538461, 0.9303076923076923, 0.882872, 0.8541029230769231, 0.818513076923077, 0.7586670769230769, 0.7583593846153847, 0.7378465384615385, 0.7106155384615385, 0.6498464615384616, 0.654153923076923, 0.612872076923077, 0.6049230769230769, 0.5415383076923077, 0.5020513846153847, 0.4288718461538461, 0.4054870769230769, 0.3955893846153846, 0.3522561538461539, 0.25820499999999996, 0.28507692307692306, 0.27830753846153844, 0.26184615384615384]\n",
      "[0.9917257499999999, 0.9151449230769231, 0.8442405384615385, 0.824132, 0.8006775384615386, 0.7706765384615385, 0.7401388461538462, 0.7047616153846155, 0.6912382307692309, 0.6618597692307693, 0.6562747692307692, 0.6101356153846155, 0.5972408461538462, 0.6032052307692307, 0.5884622307692308, 0.5555917692307693, 0.5508167692307692, 0.5162529230769232, 0.5105296153846155, 0.49479199999999995, 0.4860371538461538, 0.47416992307692307, 0.4717794615384615, 0.47904261538461534, 0.4747732307692308]\n",
      "[1.0, 1.0, 1.0, 1.0, 0.9978846153846154, 1.0, 1.0, 1.0, 1.0, 0.9996153846153846, 0.9940384615384615, 0.994423076923077, 0.9940384615384618, 0.9888461538461539, 0.9802884615384615, 0.9586538461538462, 0.9422115384615385, 0.8832692307692308, 0.83875, 0.741923076923077, 0.7396153846153847, 0.7585576923076923, 0.7024038461538461, 0.6885576923076923, 0.7023076923076923]\n",
      "[0.98231375, 0.9037906153846155, 0.8994464615384616, 0.8910723076923076, 0.8904921538461539, 0.8998599230769231, 0.8924413846153847, 0.8966714615384616, 0.8972969999999999, 0.9110291538461539, 0.8904126923076923, 0.8680417692307691, 0.8410345384615384, 0.8026476923076923, 0.7713435384615385, 0.7615672307692307, 0.741411076923077, 0.6593667692307692, 0.612706, 0.5716550769230769, 0.5688426923076925, 0.5738610000000001, 0.5664663076923077, 0.5618008461538462, 0.5564978461538461]\n",
      "[1.0, 1.0, 1.0, 1.0, 1.0, 1.0, 1.0, 1.0, 1.0, 1.0, 1.0, 1.0, 1.0, 1.0, 1.0, 1.0, 1.0, 1.0, 1.0, 1.0, 1.0, 1.0, 1.0, 1.0, 1.0]\n",
      "[0.9873547500000001, 0.914652153846154, 0.9065758461538461, 0.9080556153846153, 0.9065144615384615, 0.9027903076923077, 0.9130448461538462, 0.9087560000000001, 0.9194942307692309, 0.9032758461538462, 0.915534, 0.9098384615384616, 0.9032677692307693, 0.9035062307692308, 0.8962874615384615, 0.9011859999999999, 0.9068849999999999, 0.909654, 0.9181253076923077, 0.901942923076923, 0.9098761538461538, 0.911341923076923, 0.9104908461538461, 0.90725, 0.9055244615384616]\n",
      "[1.0, 1.0, 1.0, 1.0, 1.0, 1.0, 1.0, 1.0, 1.0, 1.0, 1.0, 1.0, 1.0, 1.0, 1.0, 1.0, 1.0, 1.0, 1.0, 1.0, 1.0, 1.0, 1.0, 1.0, 1.0]\n",
      "[0.9818282500000001, 0.8767712307692309, 0.8816384615384615, 0.8946863076923076, 0.8757573076923075, 0.8893603076923077, 0.8906476153846153, 0.8870954615384614, 0.903379076923077, 0.8972893846153847, 0.8806101538461537, 0.8824435384615384, 0.8950717692307693, 0.8912038461538462, 0.8915762307692308, 0.8882024615384615, 0.8825733076923078, 0.8924979999999998, 0.8827391538461539, 0.8940797692307693, 0.8891650000000001, 0.8887379230769231, 0.8816011538461538, 0.8901513076923077, 0.8870757692307693]\n",
      "[1.0, 1.0, 1.0, 1.0, 1.0, 1.0, 1.0, 1.0, 1.0, 1.0, 1.0, 1.0, 1.0, 1.0, 1.0, 1.0, 1.0, 1.0, 1.0, 1.0, 1.0, 1.0, 1.0, 1.0, 1.0]\n",
      "[0.9883904999999998, 0.901713, 0.9090044615384616, 0.9205397692307693, 0.9172034615384616, 0.9123056923076923, 0.9055188461538463, 0.9035967692307693, 0.9168720000000001, 0.9102592307692309, 0.9095263076923076, 0.9075205384615385, 0.9109066153846153, 0.9074867692307691, 0.9064933846153846, 0.9130949230769231, 0.9079698461538461, 0.900631076923077, 0.9085383846153847, 0.9089206923076922, 0.9010264615384616, 0.9104893076923076, 0.9082228461538462, 0.9130924615384616, 0.9099088461538462]\n",
      "  distance_param    num_children    pool_size    crossover\n",
      "----------------  --------------  -----------  -----------\n",
      "             300              10           10           30\n",
      "             150              10           10           30\n",
      "              80              10           10           30\n",
      "              20              10           10           30\n",
      "               5              10           10           30\n",
      "               1              10           10           30\n"
     ]
    },
    {
     "data": {
      "image/png": "[encoded data removed]",
      "text/plain": [
       "<Figure size 640x480 with 1 Axes>"
      ]
     },
     "metadata": {},
     "output_type": "display_data"
    }
   ],
   "source": [
    "import random\n",
    "from random import randrange\n",
    "import tabulate\n",
    "\n",
    "def rand_color():\n",
    "    return [randrange(255) / 255, randrange(255) /255, randrange(255)/255]\n",
    "\n",
    "\n",
    "def print_metadata(dataset):\n",
    "    header = dataset[0].keys()\n",
    "    rows =  [x.values() for x in dataset]\n",
    "    print(tabulate.tabulate(rows, header))\n",
    "\n",
    "def show_average_plot(datafilenums: list[int]):\n",
    "    plt.xlabel(\"toxicity\")\n",
    "    plt.ylabel(\"similarity\")\n",
    "\n",
    "    data_list = [average_points_per_generation(get_data_from_file(id)) for id in datafilenums]\n",
    "    metadata_list = [get_metadata_from_file(id) for id in datafilenums]\n",
    "\n",
    "    for index, data in enumerate(data_list):\n",
    "        x_data = [x for x in data[0]]\n",
    "        y_data = [x for x in data[1]]\n",
    "        \n",
    "        plt.scatter(x_data, y_data, color=\"blue\", label=index)\n",
    "    \n",
    "\n",
    "    print_metadata(metadata_list)\n",
    "    plt.show()\n",
    "        \n",
    "\n",
    "show_average_plot([28, 29, 30, 31, 32, 33])\n",
    "\n"
   ]
  },
  {
   "cell_type": "code",
   "execution_count": 28,
   "metadata": {
    "collapsed": false,
    "jupyter": {
     "outputs_hidden": false
    },
    "pycharm": {
     "name": "#%%\n"
    }
   },
   "outputs": [
    {
     "name": "stdout",
     "output_type": "stream",
     "text": [
      "hi\n"
     ]
    },
    {
     "ename": "IndexError",
     "evalue": "list index out of range",
     "output_type": "error",
     "traceback": [
      "\u001b[0;31m---------------------------------------------------------------------------\u001b[0m",
      "\u001b[0;31mIndexError\u001b[0m                                Traceback (most recent call last)",
      "Cell \u001b[0;32mIn[28], line 2\u001b[0m\n\u001b[1;32m      1\u001b[0m \u001b[38;5;28mprint\u001b[39m(\u001b[38;5;124m\"\u001b[39m\u001b[38;5;124mhi\u001b[39m\u001b[38;5;124m\"\u001b[39m)\n\u001b[0;32m----> 2\u001b[0m data \u001b[38;5;241m=\u001b[39m [\u001b[43mget_data_from_file\u001b[49m\u001b[43m(\u001b[49m\u001b[38;5;241;43m11\u001b[39;49m\u001b[43m)\u001b[49m, get_data_from_file(\u001b[38;5;241m13\u001b[39m), get_data_from_file(\u001b[38;5;241m16\u001b[39m)]\n\u001b[1;32m      3\u001b[0m plt\u001b[38;5;241m.\u001b[39mxlabel(\u001b[38;5;124m\"\u001b[39m\u001b[38;5;124mtoxicity\u001b[39m\u001b[38;5;124m\"\u001b[39m)\n\u001b[1;32m      4\u001b[0m plt\u001b[38;5;241m.\u001b[39mylabel(\u001b[38;5;124m\"\u001b[39m\u001b[38;5;124msimilarity\u001b[39m\u001b[38;5;124m\"\u001b[39m)\n",
      "Cell \u001b[0;32mIn[23], line 29\u001b[0m, in \u001b[0;36mget_data_from_file\u001b[0;34m(datafilenum)\u001b[0m\n\u001b[1;32m     27\u001b[0m     \u001b[38;5;28;01mfor\u001b[39;00m line \u001b[38;5;129;01min\u001b[39;00m f\u001b[38;5;241m.\u001b[39mreadlines():\n\u001b[1;32m     28\u001b[0m         parts \u001b[38;5;241m=\u001b[39m line\u001b[38;5;241m.\u001b[39msplit(\u001b[38;5;124m\"\u001b[39m\u001b[38;5;124m,\u001b[39m\u001b[38;5;124m\"\u001b[39m, maxsplit\u001b[38;5;241m=\u001b[39m\u001b[38;5;241m3\u001b[39m)\n\u001b[0;32m---> 29\u001b[0m         result\u001b[38;5;241m.\u001b[39mappend(Datapoint(\u001b[38;5;28mfloat\u001b[39m(parts[\u001b[38;5;241m0\u001b[39m]), \u001b[38;5;28mfloat\u001b[39m(parts[\u001b[38;5;241m1\u001b[39m]), \u001b[38;5;28mint\u001b[39m(\u001b[43mparts\u001b[49m\u001b[43m[\u001b[49m\u001b[38;5;241;43m2\u001b[39;49m\u001b[43m]\u001b[49m), parts[\u001b[38;5;241m3\u001b[39m]))\n\u001b[1;32m     31\u001b[0m \u001b[38;5;28mprint\u001b[39m(result[\u001b[38;5;241m0\u001b[39m])\n\u001b[1;32m     32\u001b[0m \u001b[38;5;28;01mreturn\u001b[39;00m result\n",
      "\u001b[0;31mIndexError\u001b[0m: list index out of range"
     ]
    }
   ],
   "source": []
  },
  {
   "cell_type": "markdown",
   "metadata": {
    "collapsed": false,
    "jupyter": {
     "outputs_hidden": false
    },
    "pycharm": {
     "name": "#%% md\n"
    }
   },
   "source": [
    "## dataset 10, 11:\n",
    "Population based search. Keep the upper frontier at all times, to generate the next sentence, find a new item at random and morph it. Total 1000 generations of this. Add % = 40\n",
    "\n",
    "## dataset 12\n",
    "same as above but add percent is 50\n",
    "\n",
    "## dataset 13\n",
    "same as above but add percent is 30\n",
    "\n",
    "## dataset 14\n",
    "The frontier is more loosely maintained, with some randomness set to 30% a suboptimal point might still be kept in the frontier. \n",
    "\n",
    "## dataset 16\n",
    "We change the distance function to be 0/1, and the toxicity displayed here is just a measure of how many perturbations is it away from being a non-toxic prompt. \n",
    "\n",
    "## dataset 24-26\n",
    "We use the same SLS as before. 10*10 for 25 generations. however the toxicity measured is now a max of the individual categories\n",
    "morpher is random word morpher.\n",
    "\n",
    "## metadata"
   ]
  }
 ],
 "metadata": {
  "kernelspec": {
   "display_name": "Python 3 (ipykernel)",
   "language": "python",
   "name": "python3"
  },
  "language_info": {
   "codemirror_mode": {
    "name": "ipython",
    "version": 3
   },
   "file_extension": ".py",
   "mimetype": "text/x-python",
   "name": "python",
   "nbconvert_exporter": "python",
   "pygments_lexer": "ipython3",
   "version": "3.10.13"
  }
 },
 "nbformat": 4,
 "nbformat_minor": 4
}
