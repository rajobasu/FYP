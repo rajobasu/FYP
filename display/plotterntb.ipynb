{
 "cells": [
  {
   "cell_type": "code",
   "execution_count": 1,
   "metadata": {
    "collapsed": false,
    "jupyter": {
     "outputs_hidden": false
    },
    "pycharm": {
     "name": "#%%\n"
    }
   },
   "outputs": [],
   "source": [
    "# import matplotlib\n",
    "# matplotlib.use('TkAgg')\n",
    "%matplotlib inline\n",
    "import matplotlib.pyplot as plt\n",
    "import seaborn as sns\n",
    "from pprint import pprint\n",
    "import pandas as pd"
   ]
  },
  {
   "cell_type": "code",
   "execution_count": null,
   "outputs": [],
   "source": [
    "def get_data_from_file(datafilenum):\n",
    "    data_file = f\"../data/output{datafilenum}.csv\"\n",
    "    df = pd.read_csv(data_file)\n",
    "\n",
    "    if datafilenum >= 19:\n",
    "        return list(df['toxicity']), list(df['similarity']), list(df['generation'])\n",
    "        \n",
    "    return list(df['toxicity']), list(df['similarity'])\n",
    "\n"
   ],
   "metadata": {
    "collapsed": false,
    "pycharm": {
     "name": "#%%\n"
    }
   }
  },
  {
   "cell_type": "code",
   "execution_count": null,
   "outputs": [],
   "source": [
    "def show_data(datafilenum):\n",
    "    data = get_data_from_file(datafilenum)\n",
    "    plt.xlabel(\"toxicity\")\n",
    "    plt.ylabel(\"similarity\")\n",
    "\n",
    "    by_generation = {}\n",
    "    for i in range(len(data[2])):\n",
    "        gen_id = data[2][i]\n",
    "        if gen_id > 20:\n",
    "            break\n",
    "        if gen_id not in by_generation:\n",
    "            by_generation[gen_id] = []\n",
    "\n",
    "        by_generation[gen_id].append((data[0][i], data[1][i]))\n",
    "\n",
    "    tot_colors = len(by_generation)\n",
    "    for i, pr in enumerate(by_generation.items()):\n",
    "        _, datapoints = pr\n",
    "        plt.scatter([item for item, _ in datapoints], [item for _, item in datapoints], color=[i / tot_colors, i / tot_colors, i / tot_colors])\n",
    "        \n",
    "    plt.show()\n",
    "\n",
    "show_data(21)\n",
    "# data = get_data_from_file(20), get_data_from_file(13), get_data_from_file(16)]\n",
    "# # plt.scatter(data[0][0], data[0][1], color=\"blue\")\n",
    "# # plt.scatter(data[1][0], data[1][1], color=\"red\")\n",
    "\n",
    "# plt.scatter(data[2][0], data[2][1], color=\"green\")\n"
   ],
   "metadata": {
    "collapsed": false,
    "pycharm": {
     "name": "#%%\n"
    }
   }
  },
  {
   "cell_type": "code",
   "execution_count": null,
   "outputs": [],
   "source": [
    "print(\"hi\")\n",
    "data = [get_data_from_file(11), get_data_from_file(13), get_data_from_file(16)]\n",
    "plt.xlabel(\"toxicity\")\n",
    "plt.ylabel(\"similarity\")\n",
    "# plt.scatter(data[0][0], data[0][1], color=\"blue\")\n",
    "# plt.scatter(data[1][0], data[1][1], color=\"red\")\n",
    "plt.scatter(data[2][0], data[2][1], color=\"green\")\n",
    "\n",
    "\n",
    "plt.show()"
   ],
   "metadata": {
    "collapsed": false,
    "pycharm": {
     "name": "#%%\n"
    }
   }
  },
  {
   "cell_type": "markdown",
   "source": [
    "## dataset 10, 11:\n",
    "Population based search. Keep the upper frontier at all times, to generate the next sentence, find a new item at random and morph it. Total 1000 generations of this. Add % = 40\n",
    "\n",
    "## dataset 12\n",
    "same as above but add percent is 50\n",
    "\n",
    "## dataset 13\n",
    "same as above but add percent is 30\n",
    "\n",
    "## dataset 14\n",
    "The frontier is more loosely maintained, with some randomness set to 30% a suboptimal point might still be kept in the frontier. \n",
    "\n",
    "## dataset 16\n",
    "We change the distance function to be 0/1, and the toxicity displayed here is just a measure of how many perturbations is it away from being a non-toxic prompt. "
   ],
   "metadata": {
    "collapsed": false,
    "pycharm": {
     "name": "#%% md\n"
    }
   }
  }
 ],
 "metadata": {
  "kernelspec": {
   "display_name": "Python 3 (ipykernel)",
   "language": "python",
   "name": "python3"
  },
  "language_info": {
   "codemirror_mode": {
    "name": "ipython",
    "version": 3
   },
   "file_extension": ".py",
   "mimetype": "text/x-python",
   "name": "python",
   "nbconvert_exporter": "python",
   "pygments_lexer": "ipython3",
   "version": "3.10.13"
  }
 },
 "nbformat": 4,
 "nbformat_minor": 4
}